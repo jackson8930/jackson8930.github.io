{
 "cells": [
  {
   "cell_type": "code",
   "execution_count": null,
   "metadata": {},
   "outputs": [],
   "source": [
    "import random\n",
    "\n",
    "secret_number = random.randint(1, 10)\n",
    "\n",
    "print(\"숫자를 맞춰보세요! (1-10)\")\n",
    "\n",
    "while True:\n",
    "    guess = int(input(\"숫자를 입력하세요: \"))\n",
    "\n",
    "    if guess == secret_number:\n",
    "        print(\"축하합니다! 정답입니다!\")\n",
    "        break\n",
    "    elif guess < secret_number:\n",
    "        print(\"더 큰 수를 입력하세요.\")\n",
    "    else:\n",
    "        print(\"더 작은 수를 입력하세요.\")"
   ]
  }
 ],
 "metadata": {
  "kernelspec": {
   "display_name": "pandas_course",
   "language": "python",
   "name": "pandas_course"
  },
  "language_info": {
   "codemirror_mode": {
    "name": "ipython",
    "version": 3
   },
   "file_extension": ".py",
   "mimetype": "text/x-python",
   "name": "python",
   "nbconvert_exporter": "python",
   "pygments_lexer": "ipython3",
   "version": "3.12.7"
  }
 },
 "nbformat": 4,
 "nbformat_minor": 2
}
