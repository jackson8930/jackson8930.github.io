{
  "cells": [
    {
      "cell_type": "code",
      "execution_count": 1,
      "metadata": {
        "colab": {
          "base_uri": "https://localhost:8080/"
        },
        "id": "jzjwcogeHNet",
        "outputId": "f2b07841-65e7-4e4a-ab68-cf1a2fb290da"
      },
      "outputs": [
        {
          "name": "stdout",
          "output_type": "stream",
          "text": [
            "OpenAI API key 입력: ··········\n"
          ]
        }
      ],
      "source": [
        "import os\n",
        "from getpass import getpass\n",
        "\n",
        "os.environ[\"OPENAI_API_KEY\"] = getpass(\"OpenAI API key 입력: \")\n"
      ]
    },
    {
      "cell_type": "code",
      "execution_count": 2,
      "metadata": {
        "colab": {
          "base_uri": "https://localhost:8080/"
        },
        "id": "fk8BZP2MXVWZ",
        "outputId": "cfd1f9f7-046c-46a0-b98a-baf56935ed13"
      },
      "outputs": [
        {
          "output_type": "stream",
          "name": "stdout",
          "text": [
            "Requirement already satisfied: langchain in /usr/local/lib/python3.10/dist-packages (0.3.7)\n",
            "Requirement already satisfied: openai in /usr/local/lib/python3.10/dist-packages (1.54.4)\n",
            "Requirement already satisfied: PyYAML>=5.3 in /usr/local/lib/python3.10/dist-packages (from langchain) (6.0.2)\n",
            "Requirement already satisfied: SQLAlchemy<3,>=1.4 in /usr/local/lib/python3.10/dist-packages (from langchain) (2.0.36)\n",
            "Requirement already satisfied: aiohttp<4.0.0,>=3.8.3 in /usr/local/lib/python3.10/dist-packages (from langchain) (3.11.1)\n",
            "Requirement already satisfied: async-timeout<5.0.0,>=4.0.0 in /usr/local/lib/python3.10/dist-packages (from langchain) (4.0.3)\n",
            "Requirement already satisfied: langchain-core<0.4.0,>=0.3.15 in /usr/local/lib/python3.10/dist-packages (from langchain) (0.3.18)\n",
            "Requirement already satisfied: langchain-text-splitters<0.4.0,>=0.3.0 in /usr/local/lib/python3.10/dist-packages (from langchain) (0.3.2)\n",
            "Requirement already satisfied: langsmith<0.2.0,>=0.1.17 in /usr/local/lib/python3.10/dist-packages (from langchain) (0.1.143)\n",
            "Requirement already satisfied: numpy<2,>=1 in /usr/local/lib/python3.10/dist-packages (from langchain) (1.26.4)\n",
            "Requirement already satisfied: pydantic<3.0.0,>=2.7.4 in /usr/local/lib/python3.10/dist-packages (from langchain) (2.9.2)\n",
            "Requirement already satisfied: requests<3,>=2 in /usr/local/lib/python3.10/dist-packages (from langchain) (2.32.3)\n",
            "Requirement already satisfied: tenacity!=8.4.0,<10,>=8.1.0 in /usr/local/lib/python3.10/dist-packages (from langchain) (9.0.0)\n",
            "Requirement already satisfied: anyio<5,>=3.5.0 in /usr/local/lib/python3.10/dist-packages (from openai) (3.7.1)\n",
            "Requirement already satisfied: distro<2,>=1.7.0 in /usr/local/lib/python3.10/dist-packages (from openai) (1.9.0)\n",
            "Requirement already satisfied: httpx<1,>=0.23.0 in /usr/local/lib/python3.10/dist-packages (from openai) (0.27.2)\n",
            "Requirement already satisfied: jiter<1,>=0.4.0 in /usr/local/lib/python3.10/dist-packages (from openai) (0.7.1)\n",
            "Requirement already satisfied: sniffio in /usr/local/lib/python3.10/dist-packages (from openai) (1.3.1)\n",
            "Requirement already satisfied: tqdm>4 in /usr/local/lib/python3.10/dist-packages (from openai) (4.66.6)\n",
            "Requirement already satisfied: typing-extensions<5,>=4.11 in /usr/local/lib/python3.10/dist-packages (from openai) (4.12.2)\n",
            "Requirement already satisfied: aiohappyeyeballs>=2.3.0 in /usr/local/lib/python3.10/dist-packages (from aiohttp<4.0.0,>=3.8.3->langchain) (2.4.3)\n",
            "Requirement already satisfied: aiosignal>=1.1.2 in /usr/local/lib/python3.10/dist-packages (from aiohttp<4.0.0,>=3.8.3->langchain) (1.3.1)\n",
            "Requirement already satisfied: attrs>=17.3.0 in /usr/local/lib/python3.10/dist-packages (from aiohttp<4.0.0,>=3.8.3->langchain) (24.2.0)\n",
            "Requirement already satisfied: frozenlist>=1.1.1 in /usr/local/lib/python3.10/dist-packages (from aiohttp<4.0.0,>=3.8.3->langchain) (1.5.0)\n",
            "Requirement already satisfied: multidict<7.0,>=4.5 in /usr/local/lib/python3.10/dist-packages (from aiohttp<4.0.0,>=3.8.3->langchain) (6.1.0)\n",
            "Requirement already satisfied: propcache>=0.2.0 in /usr/local/lib/python3.10/dist-packages (from aiohttp<4.0.0,>=3.8.3->langchain) (0.2.0)\n",
            "Requirement already satisfied: yarl<2.0,>=1.17.0 in /usr/local/lib/python3.10/dist-packages (from aiohttp<4.0.0,>=3.8.3->langchain) (1.17.1)\n",
            "Requirement already satisfied: idna>=2.8 in /usr/local/lib/python3.10/dist-packages (from anyio<5,>=3.5.0->openai) (3.10)\n",
            "Requirement already satisfied: exceptiongroup in /usr/local/lib/python3.10/dist-packages (from anyio<5,>=3.5.0->openai) (1.2.2)\n",
            "Requirement already satisfied: certifi in /usr/local/lib/python3.10/dist-packages (from httpx<1,>=0.23.0->openai) (2024.8.30)\n",
            "Requirement already satisfied: httpcore==1.* in /usr/local/lib/python3.10/dist-packages (from httpx<1,>=0.23.0->openai) (1.0.6)\n",
            "Requirement already satisfied: h11<0.15,>=0.13 in /usr/local/lib/python3.10/dist-packages (from httpcore==1.*->httpx<1,>=0.23.0->openai) (0.14.0)\n",
            "Requirement already satisfied: jsonpatch<2.0,>=1.33 in /usr/local/lib/python3.10/dist-packages (from langchain-core<0.4.0,>=0.3.15->langchain) (1.33)\n",
            "Requirement already satisfied: packaging<25,>=23.2 in /usr/local/lib/python3.10/dist-packages (from langchain-core<0.4.0,>=0.3.15->langchain) (24.2)\n",
            "Requirement already satisfied: orjson<4.0.0,>=3.9.14 in /usr/local/lib/python3.10/dist-packages (from langsmith<0.2.0,>=0.1.17->langchain) (3.10.11)\n",
            "Requirement already satisfied: requests-toolbelt<2.0.0,>=1.0.0 in /usr/local/lib/python3.10/dist-packages (from langsmith<0.2.0,>=0.1.17->langchain) (1.0.0)\n",
            "Requirement already satisfied: annotated-types>=0.6.0 in /usr/local/lib/python3.10/dist-packages (from pydantic<3.0.0,>=2.7.4->langchain) (0.7.0)\n",
            "Requirement already satisfied: pydantic-core==2.23.4 in /usr/local/lib/python3.10/dist-packages (from pydantic<3.0.0,>=2.7.4->langchain) (2.23.4)\n",
            "Requirement already satisfied: charset-normalizer<4,>=2 in /usr/local/lib/python3.10/dist-packages (from requests<3,>=2->langchain) (3.4.0)\n",
            "Requirement already satisfied: urllib3<3,>=1.21.1 in /usr/local/lib/python3.10/dist-packages (from requests<3,>=2->langchain) (2.2.3)\n",
            "Requirement already satisfied: greenlet!=0.4.17 in /usr/local/lib/python3.10/dist-packages (from SQLAlchemy<3,>=1.4->langchain) (3.1.1)\n",
            "Requirement already satisfied: jsonpointer>=1.9 in /usr/local/lib/python3.10/dist-packages (from jsonpatch<2.0,>=1.33->langchain-core<0.4.0,>=0.3.15->langchain) (3.0.0)\n"
          ]
        }
      ],
      "source": [
        "!pip install langchain openai\n"
      ]
    },
    {
      "cell_type": "code",
      "source": [
        "!pip install langchain_community\n"
      ],
      "metadata": {
        "colab": {
          "base_uri": "https://localhost:8080/"
        },
        "id": "vv0IbTuTV_Kd",
        "outputId": "18826bb0-049b-49be-8cda-e10da31bbe15"
      },
      "execution_count": 3,
      "outputs": [
        {
          "output_type": "stream",
          "name": "stdout",
          "text": [
            "Collecting langchain_community\n",
            "  Downloading langchain_community-0.3.7-py3-none-any.whl.metadata (2.9 kB)\n",
            "Requirement already satisfied: PyYAML>=5.3 in /usr/local/lib/python3.10/dist-packages (from langchain_community) (6.0.2)\n",
            "Collecting SQLAlchemy<2.0.36,>=1.4 (from langchain_community)\n",
            "  Downloading SQLAlchemy-2.0.35-cp310-cp310-manylinux_2_17_x86_64.manylinux2014_x86_64.whl.metadata (9.6 kB)\n",
            "Requirement already satisfied: aiohttp<4.0.0,>=3.8.3 in /usr/local/lib/python3.10/dist-packages (from langchain_community) (3.11.1)\n",
            "Collecting dataclasses-json<0.7,>=0.5.7 (from langchain_community)\n",
            "  Downloading dataclasses_json-0.6.7-py3-none-any.whl.metadata (25 kB)\n",
            "Collecting httpx-sse<0.5.0,>=0.4.0 (from langchain_community)\n",
            "  Downloading httpx_sse-0.4.0-py3-none-any.whl.metadata (9.0 kB)\n",
            "Requirement already satisfied: langchain<0.4.0,>=0.3.7 in /usr/local/lib/python3.10/dist-packages (from langchain_community) (0.3.7)\n",
            "Requirement already satisfied: langchain-core<0.4.0,>=0.3.17 in /usr/local/lib/python3.10/dist-packages (from langchain_community) (0.3.18)\n",
            "Requirement already satisfied: langsmith<0.2.0,>=0.1.125 in /usr/local/lib/python3.10/dist-packages (from langchain_community) (0.1.143)\n",
            "Requirement already satisfied: numpy<2,>=1 in /usr/local/lib/python3.10/dist-packages (from langchain_community) (1.26.4)\n",
            "Collecting pydantic-settings<3.0.0,>=2.4.0 (from langchain_community)\n",
            "  Downloading pydantic_settings-2.6.1-py3-none-any.whl.metadata (3.5 kB)\n",
            "Requirement already satisfied: requests<3,>=2 in /usr/local/lib/python3.10/dist-packages (from langchain_community) (2.32.3)\n",
            "Requirement already satisfied: tenacity!=8.4.0,<10,>=8.1.0 in /usr/local/lib/python3.10/dist-packages (from langchain_community) (9.0.0)\n",
            "Requirement already satisfied: aiohappyeyeballs>=2.3.0 in /usr/local/lib/python3.10/dist-packages (from aiohttp<4.0.0,>=3.8.3->langchain_community) (2.4.3)\n",
            "Requirement already satisfied: aiosignal>=1.1.2 in /usr/local/lib/python3.10/dist-packages (from aiohttp<4.0.0,>=3.8.3->langchain_community) (1.3.1)\n",
            "Requirement already satisfied: attrs>=17.3.0 in /usr/local/lib/python3.10/dist-packages (from aiohttp<4.0.0,>=3.8.3->langchain_community) (24.2.0)\n",
            "Requirement already satisfied: frozenlist>=1.1.1 in /usr/local/lib/python3.10/dist-packages (from aiohttp<4.0.0,>=3.8.3->langchain_community) (1.5.0)\n",
            "Requirement already satisfied: multidict<7.0,>=4.5 in /usr/local/lib/python3.10/dist-packages (from aiohttp<4.0.0,>=3.8.3->langchain_community) (6.1.0)\n",
            "Requirement already satisfied: propcache>=0.2.0 in /usr/local/lib/python3.10/dist-packages (from aiohttp<4.0.0,>=3.8.3->langchain_community) (0.2.0)\n",
            "Requirement already satisfied: yarl<2.0,>=1.17.0 in /usr/local/lib/python3.10/dist-packages (from aiohttp<4.0.0,>=3.8.3->langchain_community) (1.17.1)\n",
            "Requirement already satisfied: async-timeout<6.0,>=4.0 in /usr/local/lib/python3.10/dist-packages (from aiohttp<4.0.0,>=3.8.3->langchain_community) (4.0.3)\n",
            "Collecting marshmallow<4.0.0,>=3.18.0 (from dataclasses-json<0.7,>=0.5.7->langchain_community)\n",
            "  Downloading marshmallow-3.23.1-py3-none-any.whl.metadata (7.5 kB)\n",
            "Collecting typing-inspect<1,>=0.4.0 (from dataclasses-json<0.7,>=0.5.7->langchain_community)\n",
            "  Downloading typing_inspect-0.9.0-py3-none-any.whl.metadata (1.5 kB)\n",
            "Requirement already satisfied: langchain-text-splitters<0.4.0,>=0.3.0 in /usr/local/lib/python3.10/dist-packages (from langchain<0.4.0,>=0.3.7->langchain_community) (0.3.2)\n",
            "Requirement already satisfied: pydantic<3.0.0,>=2.7.4 in /usr/local/lib/python3.10/dist-packages (from langchain<0.4.0,>=0.3.7->langchain_community) (2.9.2)\n",
            "Requirement already satisfied: jsonpatch<2.0,>=1.33 in /usr/local/lib/python3.10/dist-packages (from langchain-core<0.4.0,>=0.3.17->langchain_community) (1.33)\n",
            "Requirement already satisfied: packaging<25,>=23.2 in /usr/local/lib/python3.10/dist-packages (from langchain-core<0.4.0,>=0.3.17->langchain_community) (24.2)\n",
            "Requirement already satisfied: typing-extensions>=4.7 in /usr/local/lib/python3.10/dist-packages (from langchain-core<0.4.0,>=0.3.17->langchain_community) (4.12.2)\n",
            "Requirement already satisfied: httpx<1,>=0.23.0 in /usr/local/lib/python3.10/dist-packages (from langsmith<0.2.0,>=0.1.125->langchain_community) (0.27.2)\n",
            "Requirement already satisfied: orjson<4.0.0,>=3.9.14 in /usr/local/lib/python3.10/dist-packages (from langsmith<0.2.0,>=0.1.125->langchain_community) (3.10.11)\n",
            "Requirement already satisfied: requests-toolbelt<2.0.0,>=1.0.0 in /usr/local/lib/python3.10/dist-packages (from langsmith<0.2.0,>=0.1.125->langchain_community) (1.0.0)\n",
            "Collecting python-dotenv>=0.21.0 (from pydantic-settings<3.0.0,>=2.4.0->langchain_community)\n",
            "  Downloading python_dotenv-1.0.1-py3-none-any.whl.metadata (23 kB)\n",
            "Requirement already satisfied: charset-normalizer<4,>=2 in /usr/local/lib/python3.10/dist-packages (from requests<3,>=2->langchain_community) (3.4.0)\n",
            "Requirement already satisfied: idna<4,>=2.5 in /usr/local/lib/python3.10/dist-packages (from requests<3,>=2->langchain_community) (3.10)\n",
            "Requirement already satisfied: urllib3<3,>=1.21.1 in /usr/local/lib/python3.10/dist-packages (from requests<3,>=2->langchain_community) (2.2.3)\n",
            "Requirement already satisfied: certifi>=2017.4.17 in /usr/local/lib/python3.10/dist-packages (from requests<3,>=2->langchain_community) (2024.8.30)\n",
            "Requirement already satisfied: greenlet!=0.4.17 in /usr/local/lib/python3.10/dist-packages (from SQLAlchemy<2.0.36,>=1.4->langchain_community) (3.1.1)\n",
            "Requirement already satisfied: anyio in /usr/local/lib/python3.10/dist-packages (from httpx<1,>=0.23.0->langsmith<0.2.0,>=0.1.125->langchain_community) (3.7.1)\n",
            "Requirement already satisfied: httpcore==1.* in /usr/local/lib/python3.10/dist-packages (from httpx<1,>=0.23.0->langsmith<0.2.0,>=0.1.125->langchain_community) (1.0.6)\n",
            "Requirement already satisfied: sniffio in /usr/local/lib/python3.10/dist-packages (from httpx<1,>=0.23.0->langsmith<0.2.0,>=0.1.125->langchain_community) (1.3.1)\n",
            "Requirement already satisfied: h11<0.15,>=0.13 in /usr/local/lib/python3.10/dist-packages (from httpcore==1.*->httpx<1,>=0.23.0->langsmith<0.2.0,>=0.1.125->langchain_community) (0.14.0)\n",
            "Requirement already satisfied: jsonpointer>=1.9 in /usr/local/lib/python3.10/dist-packages (from jsonpatch<2.0,>=1.33->langchain-core<0.4.0,>=0.3.17->langchain_community) (3.0.0)\n",
            "Requirement already satisfied: annotated-types>=0.6.0 in /usr/local/lib/python3.10/dist-packages (from pydantic<3.0.0,>=2.7.4->langchain<0.4.0,>=0.3.7->langchain_community) (0.7.0)\n",
            "Requirement already satisfied: pydantic-core==2.23.4 in /usr/local/lib/python3.10/dist-packages (from pydantic<3.0.0,>=2.7.4->langchain<0.4.0,>=0.3.7->langchain_community) (2.23.4)\n",
            "Collecting mypy-extensions>=0.3.0 (from typing-inspect<1,>=0.4.0->dataclasses-json<0.7,>=0.5.7->langchain_community)\n",
            "  Downloading mypy_extensions-1.0.0-py3-none-any.whl.metadata (1.1 kB)\n",
            "Requirement already satisfied: exceptiongroup in /usr/local/lib/python3.10/dist-packages (from anyio->httpx<1,>=0.23.0->langsmith<0.2.0,>=0.1.125->langchain_community) (1.2.2)\n",
            "Downloading langchain_community-0.3.7-py3-none-any.whl (2.4 MB)\n",
            "\u001b[2K   \u001b[90m━━━━━━━━━━━━━━━━━━━━━━━━━━━━━━━━━━━━━━━━\u001b[0m \u001b[32m2.4/2.4 MB\u001b[0m \u001b[31m28.5 MB/s\u001b[0m eta \u001b[36m0:00:00\u001b[0m\n",
            "\u001b[?25hDownloading dataclasses_json-0.6.7-py3-none-any.whl (28 kB)\n",
            "Downloading httpx_sse-0.4.0-py3-none-any.whl (7.8 kB)\n",
            "Downloading pydantic_settings-2.6.1-py3-none-any.whl (28 kB)\n",
            "Downloading SQLAlchemy-2.0.35-cp310-cp310-manylinux_2_17_x86_64.manylinux2014_x86_64.whl (3.1 MB)\n",
            "\u001b[2K   \u001b[90m━━━━━━━━━━━━━━━━━━━━━━━━━━━━━━━━━━━━━━━━\u001b[0m \u001b[32m3.1/3.1 MB\u001b[0m \u001b[31m37.0 MB/s\u001b[0m eta \u001b[36m0:00:00\u001b[0m\n",
            "\u001b[?25hDownloading marshmallow-3.23.1-py3-none-any.whl (49 kB)\n",
            "\u001b[2K   \u001b[90m━━━━━━━━━━━━━━━━━━━━━━━━━━━━━━━━━━━━━━━━\u001b[0m \u001b[32m49.5/49.5 kB\u001b[0m \u001b[31m3.4 MB/s\u001b[0m eta \u001b[36m0:00:00\u001b[0m\n",
            "\u001b[?25hDownloading python_dotenv-1.0.1-py3-none-any.whl (19 kB)\n",
            "Downloading typing_inspect-0.9.0-py3-none-any.whl (8.8 kB)\n",
            "Downloading mypy_extensions-1.0.0-py3-none-any.whl (4.7 kB)\n",
            "Installing collected packages: SQLAlchemy, python-dotenv, mypy-extensions, marshmallow, httpx-sse, typing-inspect, pydantic-settings, dataclasses-json, langchain_community\n",
            "  Attempting uninstall: SQLAlchemy\n",
            "    Found existing installation: SQLAlchemy 2.0.36\n",
            "    Uninstalling SQLAlchemy-2.0.36:\n",
            "      Successfully uninstalled SQLAlchemy-2.0.36\n",
            "Successfully installed SQLAlchemy-2.0.35 dataclasses-json-0.6.7 httpx-sse-0.4.0 langchain_community-0.3.7 marshmallow-3.23.1 mypy-extensions-1.0.0 pydantic-settings-2.6.1 python-dotenv-1.0.1 typing-inspect-0.9.0\n"
          ]
        }
      ]
    },
    {
      "cell_type": "code",
      "execution_count": 4,
      "metadata": {
        "id": "lpfIxZxoXBuL"
      },
      "outputs": [],
      "source": [
        "from langchain.chat_models import ChatOpenAI\n",
        "from langchain.schema import HumanMessage\n",
        "\n"
      ]
    },
    {
      "cell_type": "code",
      "execution_count": 5,
      "metadata": {
        "id": "6xPI2rvFXJNL",
        "colab": {
          "base_uri": "https://localhost:8080/"
        },
        "outputId": "134edd18-69f0-438f-a128-0379e606009c"
      },
      "outputs": [
        {
          "output_type": "stream",
          "name": "stderr",
          "text": [
            "<ipython-input-5-1297ad9c0d3d>:2: LangChainDeprecationWarning: The class `ChatOpenAI` was deprecated in LangChain 0.0.10 and will be removed in 1.0. An updated version of the class exists in the :class:`~langchain-openai package and should be used instead. To use it run `pip install -U :class:`~langchain-openai` and import as `from :class:`~langchain_openai import ChatOpenAI``.\n",
            "  model = ChatOpenAI(model=\"gpt-4o-mini\")\n"
          ]
        }
      ],
      "source": [
        "# 모델 초기화\n",
        "model = ChatOpenAI(model=\"gpt-4o-mini\")\n"
      ]
    },
    {
      "cell_type": "code",
      "source": [
        "!pip install pypdf\n"
      ],
      "metadata": {
        "colab": {
          "base_uri": "https://localhost:8080/"
        },
        "id": "BuTOe9xNWRwb",
        "outputId": "08831e56-28cb-4e70-e477-9eec2a416d9c"
      },
      "execution_count": 6,
      "outputs": [
        {
          "output_type": "stream",
          "name": "stdout",
          "text": [
            "Collecting pypdf\n",
            "  Downloading pypdf-5.1.0-py3-none-any.whl.metadata (7.2 kB)\n",
            "Requirement already satisfied: typing_extensions>=4.0 in /usr/local/lib/python3.10/dist-packages (from pypdf) (4.12.2)\n",
            "Downloading pypdf-5.1.0-py3-none-any.whl (297 kB)\n",
            "\u001b[?25l   \u001b[90m━━━━━━━━━━━━━━━━━━━━━━━━━━━━━━━━━━━━━━━━\u001b[0m \u001b[32m0.0/298.0 kB\u001b[0m \u001b[31m?\u001b[0m eta \u001b[36m-:--:--\u001b[0m\r\u001b[2K   \u001b[91m━━━━━━━━━━━━━\u001b[0m\u001b[91m╸\u001b[0m\u001b[90m━━━━━━━━━━━━━━━━━━━━━━━━━━\u001b[0m \u001b[32m102.4/298.0 kB\u001b[0m \u001b[31m2.8 MB/s\u001b[0m eta \u001b[36m0:00:01\u001b[0m\r\u001b[2K   \u001b[90m━━━━━━━━━━━━━━━━━━━━━━━━━━━━━━━━━━━━━━━━\u001b[0m \u001b[32m298.0/298.0 kB\u001b[0m \u001b[31m4.7 MB/s\u001b[0m eta \u001b[36m0:00:00\u001b[0m\n",
            "\u001b[?25hInstalling collected packages: pypdf\n",
            "Successfully installed pypdf-5.1.0\n"
          ]
        }
      ]
    },
    {
      "cell_type": "code",
      "execution_count": 8,
      "metadata": {
        "id": "E4GfCu6sYOdD"
      },
      "outputs": [],
      "source": [
        "from langchain.document_loaders import PyPDFLoader\n",
        "\n",
        "# PDF 파일 로드. 파일의 경로 입력\n",
        "loader = PyPDFLoader(\"/content/2024_OK.pdf\")\n",
        "\n",
        "# 페이지 별 문서 로드\n",
        "docs = loader.load()"
      ]
    },
    {
      "cell_type": "code",
      "execution_count": 9,
      "metadata": {
        "id": "-t_ZusgwYVpi"
      },
      "outputs": [],
      "source": [
        "from langchain.text_splitter import CharacterTextSplitter\n",
        "\n",
        "text_splitter = CharacterTextSplitter(\n",
        "    separator=\"\\n\\n\",\n",
        "    chunk_size=100,\n",
        "    chunk_overlap=10,\n",
        "    length_function=len,\n",
        "    is_separator_regex=False,\n",
        ")\n",
        "\n",
        "splits = text_splitter.split_documents(docs)"
      ]
    },
    {
      "cell_type": "markdown",
      "source": [
        "*  separator=\"\\n\\n\", # 텍스트에서 \\n\\n(빈 줄) 두 개로 구분된 부분마다 새로운 청크로 나누어집니다.\n",
        "* chunk_size=100,           # 각 청크는 최대 100자까지\n",
        "* chunk_overlap=10,         # 두 청크는 10자씩 겹치게 분할\n",
        "* length_function=len,      # len() 함수를 사용하여 텍스트 길이를 계산\n",
        "* is_separator_regex=False, # 구분자는 정규 표현식이 아니라 단순 문자열로 처리"
      ],
      "metadata": {
        "id": "hWFLnzFBYEVp"
      }
    },
    {
      "cell_type": "markdown",
      "source": [
        "**CharacterTextSplitter**:\n",
        "자연어 처리(NLP)에서 긴 텍스트를 작은 조각으로 나누기 위한 도구입니다. 이 도구는 텍스트를 일정한 문자 수를 기준으로 분할하는 기능을 합니다. 보통 긴 텍스트를 한 번에 처리하기 어려운 경우, 이를 더 작은 크기로 나누어 여러 번 처리하는 방식으로 사용됩니다."
      ],
      "metadata": {
        "id": "1xNaCF03nPk7"
      }
    },
    {
      "cell_type": "code",
      "source": [
        "#처음 10개의 청크를 인쇄합니다.\n",
        "for i, chunk in enumerate(splits[:10]):\n",
        "    print(f\"Chunk {i+1}: {chunk}\\n\")\n"
      ],
      "metadata": {
        "colab": {
          "base_uri": "https://localhost:8080/"
        },
        "id": "4eRhVt1x7gkD",
        "outputId": "55930a81-de47-420f-9237-0f3ad476e4d9"
      },
      "execution_count": 10,
      "outputs": [
        {
          "output_type": "stream",
          "name": "stdout",
          "text": [
            "Chunk 1: page_content='지난해 말 국내 상장법인 주식을 보유한 개인 투자자가 1,400만명을 넘어서는 등  \n",
            "국민들의 주식시장에 대한 관심이 크게 증가하였습니다.\n",
            "최근 일반 국민들의 주식투자에 대한 관심이 크게 증가했음에도 불구하고, 주식 투자  \n",
            "관련 세금문제 등 궁금한 사항에 대하여 도움을 줄 수 있는 안내책자 등은 시중에서  \n",
            "쉽게 찾아보기 어려운 게 현실입니다.\n",
            "이에 국세청에서는 주식 관련 각종 세금에 대한 납세자들의 이해를 높이고 납세의무  \n",
            "이행에 도움이 될 수 있도록 「주식과 세금」 책자를 처음으로 제작·발간하게 되었습니다.\n",
            "이번에 새롭게 출간하는 ‘주식과 세금’ 책자는 주식거래의 기초상식과 주식의 취득  \n",
            "부터 보유 및 처분시까지 단계별 세금문제를 총 76개의 문답형식으로 구성하는 한편, \n",
            "인포그래픽 등을 적극 활용하여 가독성을 제고하였으며, 구체적인 절세 꿀팁 및 자주 \n",
            "발생하는 실수 사례 등을 추가하여 활용성도 강화하였습니다.\n",
            "모쪼록, 이 책자가 주식등 관련 납세자들의 성실한 납세의무 이행에 기여할 수 있기를\n",
            "기대합니다.\n",
            "2024.  5\n",
            "국세청 자산과세국장\n",
            "머리말' metadata={'source': '/content/2024_OK.pdf', 'page': 2}\n",
            "\n",
            "Chunk 2: page_content='본 책자에 수록된 내용은 세법에서 규정하고 있는 내용을 알기 쉽게 요약하여 서술한\n",
            "것으로 모든 법령규정을 담고 있지는 않습니다.\n",
            "또한, 법령이 개정되거나 법령의 해석이 변경되어 본 책자의 내용과 다른 경우가 발생\n",
            "할 수 있으므로 실제 사안에 적용하는 경우 반드시 관련 법령과 해석 등을 충분히 확인\n",
            "하시기 바랍니다.\n",
            "본 책자는 발간일 현재 개정된 법령 등을 기준으로 작성되었습니다. 다만, 시행이  \n",
            "유예된 법령 등은 반영되어 있지 않습니다.\n",
            "본 책자에 표기된 세율은 지방소득세를 포함하지 않은 세율이며, 법령의 표기방식은  \n",
            "일부 아래와 같이 간소화하여 표기하였습니다.\n",
            "본 자료는 주식을 거래할 때 과세되는 세금에 대하여 납세자의 개략적인 이해를 돕기 \n",
            "위해 일반적인 사항 위주로 수록하였으며, 개별사안에 대해 세법을 적용하는 경우 관련 \n",
            "법령에 대한 구체적인 검토가 필요합니다.\n",
            "일러두기\n",
            "법령명법령명 표기 방식표기 방식\n",
            "국세기본법\n",
            "소득세법\n",
            "소득세법 시행령\n",
            "소득세법 시행규칙\n",
            "상속세 및 증여세법\n",
            "상속세 및 증여세법 시행령\n",
            "상속세 및 증여세법 시행규칙\n",
            "상속세 및 증여세법 기본통칙\n",
            "자본시장과 금융투자업에 관한 법률\n",
            "국기법\n",
            "소득법\n",
            "소득령\n",
            "소득칙\n",
            "상증법\n",
            "상증령\n",
            "상증칙\n",
            "상증통\n",
            "자본시장법' metadata={'source': '/content/2024_OK.pdf', 'page': 3}\n",
            "\n",
            "Chunk 3: page_content='주식등 과세이해를 위한 기초지식\n",
            "주식등 양도소득의 이해\n",
            " 1.\n",
            " 2 .\n",
            " 3.\n",
            " 4.\n",
            " 5.\n",
            " 6.\n",
            " 7.\n",
            " 8.\n",
            " 9.\n",
            "10.\n",
            " \n",
            "11.\n",
            "12.\n",
            "주식의 개념과 종류가 궁금해요\n",
            "주식시장에 대해 알고 싶어요\n",
            "상장이란 무엇인가요? \n",
            "주식거래 절차도 알고 싶어요 \n",
            "상장주식 매매거래의 종류 및 시간은 어떻게 되나요? \n",
            "주식 매매계약은 어떻게 체결되나요?\n",
            "단일가매매와 접속매매의 적용시간에 대해 알고 싶어요\n",
            "기타 매매계약체결방법도 알려주실 수 있나요?\n",
            "상장주식 거래 후 결제는 어떻게 하나요?\n",
            "주식과 유사한 금융투자상품도 많던데...  \n",
            "금융투자상품이란 무엇인가요?\n",
            "금융투자상품 중 증권의 개념 및 종류에 대해 알려주세요\n",
            "주식등에 부과되는 세금의 종류를 알고 싶어요\n",
            "제1장\n",
            "제2장\n",
            "3\n",
            "5\n",
            "8\n",
            "10\n",
            "12\n",
            "14\n",
            "19\n",
            "22\n",
            "26\n",
            " \n",
            "28 \n",
            "29\n",
            "37\n",
            "37\n",
            "38\n",
            "38\n",
            "39\n",
            "42\n",
            "제1절   주식등에 관련된 여러 가지 세금\n",
            "제2절  주식등 양도소득 과세대상\n",
            "13.\n",
            "14.\n",
            "15.\n",
            "주식을 양도하면 세금이 나오나요?\n",
            "양도소득세 과세대상인 '주식등'의 범위는 어떻게 되나요?\n",
            "양도란 무엇인가요? \n",
            "목차' metadata={'source': '/content/2024_OK.pdf', 'page': 4}\n",
            "\n",
            "Chunk 4: page_content='54\n",
            "54\n",
            "55\n",
            "56\n",
            "57\n",
            "제4절  국외주식 양도소득세\n",
            "24.\n",
            "25.\n",
            "26.\n",
            "27.\n",
            "미국 증권시장에 상장된 주식을 양도한 경우 양도소득세\n",
            "과세대상에 해당하나요?\n",
            "해외 상장지수펀드(ETF)를 매도할 경우에도 양도소득세가\n",
            "과세되나요?\n",
            "국외주식에 대한 양도소득세 계산 시 국내주식과의 차이점에 \n",
            "대해 알려주세요\n",
            "국외주식에 대한 양도차익을 계산함에 있어 외화환산은\n",
            "어떻게 하나요?\n",
            "43\n",
            " \n",
            "44 \n",
            " \n",
            "46 \n",
            "48\n",
            "49\n",
            "50\n",
            "51\n",
            "52\n",
            "16.\n",
            "17. \n",
            "18.\n",
            " \n",
            "19.\n",
            "20.\n",
            "21.\n",
            "22.\n",
            "23.\n",
            "상장주식 양도소득세가 과세되는 대주주의 범위가 궁금해요\n",
            "양도소득세 과세대상 대주주 중 최대주주 판정 시 보유지분\n",
            "을 합산하는 특수관계인의 범위는 어떻게 되나요?\n",
            "양도소득세 과세대상 상장주식 대주주를 판정할 때 기준이 \n",
            "되는 시기는 언제인가요?\n",
            "상장주식을 연도 말에 양도할 때 대주주 판정과 관련하여\n",
            "주의할 점이 있나요?\n",
            "법인이 연도 중 신설되었거나 합병·분할한 경우 대주주 요건  \n",
            "판정기준일은 언제가 되나요?\n",
            "기타 대주주 판정 시 유의할 사항을 알려주세요\n",
            "'23년 말에 상장주식 대주주 기준이 50억 원 이상으로 완화 \n",
            "되었는데 언제부터 적용되는 건가요?\n",
            "비상장주식등에 대한 양도소득세도 대주주만 해당되나요?\n",
            "43제3절  상장주식 양도소득세 과세대상 대주주\n",
            "목차' metadata={'source': '/content/2024_OK.pdf', 'page': 5}\n",
            "\n",
            "Chunk 5: page_content='28. 양도 및 취득시기는 언제인가요? 58\n",
            "58제5절  주식등의 양도·취득시기\n",
            "60\n",
            "60\n",
            "63\n",
            "64\n",
            "65\n",
            "67\n",
            "68\n",
            "69\n",
            "제6절  주식등 양도소득세 계산\n",
            "29.\n",
            "30.\n",
            "31.\n",
            "32.\n",
            "33.\n",
            "34.\n",
            "35.\n",
            "주식등 양도소득세 계산은 어떻게 하나요?\n",
            "수차례에 걸쳐 다른 가액으로 취득한 주식 중 일부를 양도 시\n",
            "취득가액은 어떻게 계산하나요?\n",
            "주식등 양도소득세를 계산할 때 기본공제는 어떻게 적용받나요?\n",
            "국내주식과 국외주식 양도차익에 대하여 기본공제를 각각 \n",
            "적용받는 건가요?\n",
            "여러 주식종목을 양도하여 이익이 발생한 종목과 손실이 발생한 \n",
            "종목이 혼재된 경우 이를 통산할 수 있나요?\n",
            "금년에 주식을 양도하여 양도차손이 발생한 경우 내년으로 이월\n",
            "하여 내년도 양도차익과 상계할 수 있나요?\n",
            "국내주식은 이익이 발생했는데 미국주식은 손실이 크게 발생했습니다. \n",
            "국내주식에 대한 양도소득세 예정신고시 미국주식의 손실을 \n",
            "통산할 수 있나요?\n",
            "70\n",
            "72\n",
            "70\n",
            "71\n",
            "제7절  주식등 양도소득세 계산\n",
            "<핵심>  주식 양도소득세 신고·납부 방법 안내\n",
            "36.\n",
            "37.\n",
            "주식 양도소득세 신고는 언제까지 해야 하나요?\n",
            "홈택스 등을 이용한 양도소득세 예정신고 방법을 알려주세요\n",
            "목차' metadata={'source': '/content/2024_OK.pdf', 'page': 6}\n",
            "\n",
            "Chunk 6: page_content='주식등 거래 관련 기타 세금\n",
            "파생상품 양도소득의 이해\n",
            "38.\n",
            "39.\n",
            "40.\n",
            "46.\n",
            "47.\n",
            "48.\n",
            "49.\n",
            "50.\n",
            "51.\n",
            "52.\n",
            "53.\n",
            "41.\n",
            "42.\n",
            "43.\n",
            "44.\n",
            "45.\n",
            "주식 양도 시 양도소득세 외에 다른 세금도 납부해야 하나요?\n",
            "주식 양도소득세 신고 후 지방소득세 신고는 별도로 해야 하나요?\n",
            "국외 전출할 때 내는 주식 양도소득세가 있다고 하던데?\n",
            "파생상품이란 무엇인가요?\n",
            "양도소득세 과세대상 파생상품은 무엇이 있나요?\n",
            "파생상품의 양도·취득시기 및 양도·취득가액은 어떻게 되나요?\n",
            "양도소득세 과세대상 파생상품별로 양도차익의 산정방법이 궁금해요\n",
            "파생상품 양도소득기본공제는 어떻게 적용하나요? \n",
            "주식워런트증권(ELW)은 자본시장법상 증권에 해당하는데 \n",
            "이 경우 지분증권인 주식등의 양도손익과 통산할 수 있는지?\n",
            "파생상품 양도소득세 세율은 주식과 다른가요?\n",
            "파생상품 양도소득세는 언제까지 신고해야 하나요?\n",
            "주식을 증여하는 경우 세금을 내야 하나요? 상장주식 소액주주인 \n",
            "경우에는 증여세를 내지 않아도 되는지요?\n",
            "무상으로 증여받은 주식의 경우 어떤 가액을 기준으로 신고하나요?\n",
            "주식등 증여세 계산은 어떻게 하나요?\n",
            "증여받은 주식에 대한 증여세는 언제까지 신고해야 하나요? \n",
            "주식등에 대한 양도소득세 또는 증여세를 기한 내 신고하지 않는\n",
            "경우 불이익에 대해 알고 싶어요\n",
            "제3장\n",
            "제4장\n",
            "77\n",
            "78\n",
            "79\n",
            "97\n",
            "100\n",
            "101\n",
            "102\n",
            "112\n",
            "113\n",
            "114\n",
            "115\n",
            "83\n",
            "85\n",
            "86\n",
            "89\n",
            "90\n",
            "77\n",
            "83\n",
            "제1절   주식등 거래 관련 증권거래세 등\n",
            "제2절   주식등 증여 관련 증여세\n",
            "목차' metadata={'source': '/content/2024_OK.pdf', 'page': 7}\n",
            "\n",
            "Chunk 7: page_content='배당소득의 이해\n",
            " 54.\n",
            " 55.\n",
            "56.\n",
            "57.\n",
            "58.\n",
            "59.\n",
            "60.\n",
            "61.\n",
            "62.\n",
            "63.\n",
            "64.\n",
            "65.\n",
            "소득세는 어떤 세금인가요?\n",
            "종합소득세에 대해 구체적으로 알고 싶어요 \n",
            "금융소득종합과세란 무엇인가요? \n",
            "배당소득세가 궁금해요? \n",
            "비과세, 감면 등 과세되지 않는 배당소득은 무엇이 있나요? \n",
            "배당소득이 발생한 날은 언제가 되는 건가요? \n",
            "배당소득금액은 어떻게 계산하나요? \n",
            "상장주식 보유 시 배당금이 지급된 경우\n",
            "지급하는 회사가 원천징수를 하나요? \n",
            "배당소득이 종합과세되는 경우 종합과세 방법은? \n",
            "배당소득이 종합과세되는 경우 세액계산은 어떻게 하나요? \n",
            "금융소득 종합과세시 적용되는 종합소득세 기본세율은\n",
            "어떻게 되나요? \n",
            "배당세액공제 및 기납부세액의 공제방법을 알려주세요\n",
            "제5장\n",
            "119\n",
            "120\n",
            "123\n",
            "125\n",
            "128\n",
            "130\n",
            "131\n",
            "133\n",
            "136\n",
            "137 \n",
            "140\n",
            "141\n",
            "주식의 평가\n",
            "66.\n",
            "67.\n",
            "68.\n",
            "69.\n",
            "70.\n",
            "주식평가는 왜 하는 건가요? \n",
            "평가는 언제를 기준으로 하나요? \n",
            "주식 평가방법을 알려주세요 \n",
            "주식평가 시 시가란 무엇인가요?\n",
            "시가가 없는 경우 어떻게 평가하나요?\n",
            "제6장\n",
            "145\n",
            "146\n",
            "149\n",
            "153\n",
            "155\n",
            "목차' metadata={'source': '/content/2024_OK.pdf', 'page': 8}\n",
            "\n",
            "Chunk 8: page_content='71.\n",
            "72.\n",
            "73.\n",
            "74.\n",
            "비상장주식의 보충적 평가방법을 구체적으로 알고 싶어요 \n",
            "부동산을 많이 보유하고 있는 비상장주식의\n",
            "평가방법이 다르다고 들었는데 \n",
            "순자산가치로만 평가하는 경우에 대해 알려주세요 \n",
            "특수한 경우의 주식평가 방법도 알려주세요\n",
            "156\n",
            "159\n",
            "163\n",
            "165\n",
            "주식 관련 조세특례\n",
            "75.\n",
            "76.\n",
            "개인종합자산관리계좌(ISA)가 뭔가요? \n",
            "벤처기업에 출자하는 경우 세금혜택은 없나요?\n",
            "제7장\n",
            "169\n",
            "174\n",
            "절세 꿀팁 모음제8장\n",
            "꿀팁1.\n",
            "꿀팁2. \n",
            "꿀팀3.\n",
            "꿀팁4.\n",
            "꿀팁5. \n",
            "꿀팀6.\n",
            "손실 활용(실현)하기 \n",
            "증여재산공제 활용하기 \n",
            "양도소득 기본공제 활용하기\n",
            "'상장주식 증여' vs '주식취득자금 증여' \n",
            "주가가 떨어졌을 때 증여를 고려하세요 \n",
            "비상장주식 거래 시 유의사항\n",
            "개인종합자산관리계좌 활용하기\n",
            "177\n",
            "178\n",
            "179\n",
            "180\n",
            "180\n",
            "181\n",
            "177\n",
            "180\n",
            "1. 주식 양도소득세 절세\n",
            "2. 주식 증여세 절세\n",
            "목차\n",
            "꿀팁7. 181\n",
            "3. 기타 절세 181' metadata={'source': '/content/2024_OK.pdf', 'page': 9}\n",
            "\n",
            "Chunk 9: page_content='자주 실수하는 주식 양도소득세 신고사례\n",
            "사례1.\n",
            "사례2.\n",
            "사례3.\n",
            "사례4.\n",
            "사례5.\n",
            "사례6.\n",
            "사례7.\n",
            "사례8.\n",
            "사례9.\n",
            "사례10.\n",
            "사례11.\n",
            "사례12.\n",
            "중소기업 여부를 확인하지 않고 세율을 잘못 적용한 사례\n",
            "대주주 여부를 확인하지 않고 세율을 잘못 적용한 사례\n",
            "보유기간을 확인하지 않고 세율을 잘못 적용한 사례 사례\n",
            "연간 양도소득금액을 합산하여 누진세율(25%)을 적용하여야\n",
            "하나 세율 적용을 잘못한 사례 \n",
            "특정주식에 적용되는 일반 누진세율(6~45%) 미적용 사례\n",
            "신주인수권 단기 양도 후 단기 양도세율(30%) 미적용 사례\n",
            "이혼한 배우자의 보유주식을 포함하지 않고 \n",
            "최대주주 여부를 판단한 사례 \n",
            "대주주 요건에 해당하는 기존 보유주식을 전량 처분한 후 새로 \n",
            "매수한 주식 기준으로 대주주 요건을 잘못 판단한 사례 \n",
            "주식 매매계약 체결일과 결제일을 혼동하여 대주주 요건을 잘못 \n",
            "판단한 사례\n",
            "과세대상이 아닌 주식거래의 손실을 반영하여 신고한 사례 \n",
            "예정신고기간에 국외주식의 양도차손을 국내주식과 통산하여 \n",
            "신고한 사례\n",
            "손익통산 순서를 잘못 적용하여 신고한 사례\n",
            "제9장\n",
            "185\n",
            "186\n",
            "187\n",
            "188\n",
            "189\n",
            "190\n",
            "191\n",
            "192\n",
            "193\n",
            "194\n",
            "195\n",
            "196\n",
            "목차\n",
            "185\n",
            "191\n",
            "194\n",
            "1. 세율 적용\n",
            "2. 대주주 판단\n",
            "3. 손익 통산' metadata={'source': '/content/2024_OK.pdf', 'page': 10}\n",
            "\n",
            "Chunk 10: page_content='National Tax Service\n",
            "1974. 기본 공제\n",
            "1985. 기타\n",
            "사례13.\n",
            "사례14.\n",
            " 기본공제를 매 예정신고마다 중복 적용한 사례\n",
            " 상장주식 장외 거래분 양도소득세 신고 누락\n",
            "197\n",
            "198\n",
            "목차' metadata={'source': '/content/2024_OK.pdf', 'page': 11}\n",
            "\n"
          ]
        }
      ]
    },
    {
      "cell_type": "code",
      "execution_count": 11,
      "metadata": {
        "id": "8dfJHjZJYlqz"
      },
      "outputs": [],
      "source": [
        "from langchain.text_splitter import RecursiveCharacterTextSplitter\n",
        "\n",
        "recursive_text_splitter = RecursiveCharacterTextSplitter(\n",
        "    chunk_size=100,\n",
        "    chunk_overlap=10,\n",
        "    length_function=len,\n",
        "    is_separator_regex=False,\n",
        ")\n",
        "\n",
        "splits = recursive_text_splitter.split_documents(docs)"
      ]
    },
    {
      "cell_type": "markdown",
      "source": [
        "* chunk_size=100,           # 각 청크는 최대 100자까지\n",
        "* chunk_overlap=10,         # 두 청크는 10자씩 겹치게 분할\n",
        "* length_function=len,      # len() 함수를 사용하여 텍스트 길이를 계산\n",
        "* is_separator_regex=False, # 구분자는 정규 표현식이 아니라 단순 문자열로 처리\n"
      ],
      "metadata": {
        "id": "qoE1d_SCX54p"
      }
    },
    {
      "cell_type": "markdown",
      "source": [
        "**RecursiveCharacterTextSplitter**:\n",
        "텍스트를 의미 있는 단위로 나누기 위해, 여러 번 재귀적으로 텍스트를 쪼개며 각 청크가 논리적으로 연결될 수 있도록 돕습니다. 이를 사용하면 긴 문서를 처리할 때 더 효율적으로 작업할 수 있습니다."
      ],
      "metadata": {
        "id": "Gzk_beWKnCBd"
      }
    },
    {
      "cell_type": "code",
      "source": [
        "#처음 10개의 청크를 인쇄합니다.\n",
        "for i, chunk in enumerate(splits[:10]):\n",
        "    print(f\"Chunk {i+1}: {chunk}\\n\")"
      ],
      "metadata": {
        "colab": {
          "base_uri": "https://localhost:8080/"
        },
        "id": "8llRJBgQ7Wrg",
        "outputId": "0c580539-05ee-42bd-e8c0-427c283db121"
      },
      "execution_count": 12,
      "outputs": [
        {
          "output_type": "stream",
          "name": "stdout",
          "text": [
            "Chunk 1: page_content='지난해 말 국내 상장법인 주식을 보유한 개인 투자자가 1,400만명을 넘어서는 등  \n",
            "국민들의 주식시장에 대한 관심이 크게 증가하였습니다.' metadata={'source': '/content/2024_OK.pdf', 'page': 2}\n",
            "\n",
            "Chunk 2: page_content='최근 일반 국민들의 주식투자에 대한 관심이 크게 증가했음에도 불구하고, 주식 투자  \n",
            "관련 세금문제 등 궁금한 사항에 대하여 도움을 줄 수 있는 안내책자 등은 시중에서' metadata={'source': '/content/2024_OK.pdf', 'page': 2}\n",
            "\n",
            "Chunk 3: page_content='쉽게 찾아보기 어려운 게 현실입니다.\n",
            "이에 국세청에서는 주식 관련 각종 세금에 대한 납세자들의 이해를 높이고 납세의무' metadata={'source': '/content/2024_OK.pdf', 'page': 2}\n",
            "\n",
            "Chunk 4: page_content='이행에 도움이 될 수 있도록 「주식과 세금」 책자를 처음으로 제작·발간하게 되었습니다.\n",
            "이번에 새롭게 출간하는 ‘주식과 세금’ 책자는 주식거래의 기초상식과 주식의 취득' metadata={'source': '/content/2024_OK.pdf', 'page': 2}\n",
            "\n",
            "Chunk 5: page_content='부터 보유 및 처분시까지 단계별 세금문제를 총 76개의 문답형식으로 구성하는 한편, \n",
            "인포그래픽 등을 적극 활용하여 가독성을 제고하였으며, 구체적인 절세 꿀팁 및 자주' metadata={'source': '/content/2024_OK.pdf', 'page': 2}\n",
            "\n",
            "Chunk 6: page_content='발생하는 실수 사례 등을 추가하여 활용성도 강화하였습니다.\n",
            "모쪼록, 이 책자가 주식등 관련 납세자들의 성실한 납세의무 이행에 기여할 수 있기를\n",
            "기대합니다.\n",
            "2024.  5' metadata={'source': '/content/2024_OK.pdf', 'page': 2}\n",
            "\n",
            "Chunk 7: page_content='2024.  5\n",
            "국세청 자산과세국장\n",
            "머리말' metadata={'source': '/content/2024_OK.pdf', 'page': 2}\n",
            "\n",
            "Chunk 8: page_content='본 책자에 수록된 내용은 세법에서 규정하고 있는 내용을 알기 쉽게 요약하여 서술한\n",
            "것으로 모든 법령규정을 담고 있지는 않습니다.' metadata={'source': '/content/2024_OK.pdf', 'page': 3}\n",
            "\n",
            "Chunk 9: page_content='또한, 법령이 개정되거나 법령의 해석이 변경되어 본 책자의 내용과 다른 경우가 발생\n",
            "할 수 있으므로 실제 사안에 적용하는 경우 반드시 관련 법령과 해석 등을 충분히 확인' metadata={'source': '/content/2024_OK.pdf', 'page': 3}\n",
            "\n",
            "Chunk 10: page_content='하시기 바랍니다.\n",
            "본 책자는 발간일 현재 개정된 법령 등을 기준으로 작성되었습니다. 다만, 시행이  \n",
            "유예된 법령 등은 반영되어 있지 않습니다.' metadata={'source': '/content/2024_OK.pdf', 'page': 3}\n",
            "\n"
          ]
        }
      ]
    },
    {
      "cell_type": "markdown",
      "source": [
        "**CharacterTextSplitter와 RecursiveCharacterTextSplitter의 차이점** : RecursiveCharacterTextSplitter가 좀 더 정교하고 의미를 보존하는 방식이고, CharacterTextSplitter는 속도는 빠르지만 의미를 고려하지 않는 방식입니다."
      ],
      "metadata": {
        "id": "6uaB1yVQmq6B"
      }
    },
    {
      "cell_type": "code",
      "execution_count": 13,
      "metadata": {
        "colab": {
          "base_uri": "https://localhost:8080/"
        },
        "id": "LHgLymLnYw1q",
        "outputId": "8ba3c447-42bb-4e24-a2ab-0ce5628ab6e8"
      },
      "outputs": [
        {
          "output_type": "stream",
          "name": "stdout",
          "text": [
            "Requirement already satisfied: langchain in /usr/local/lib/python3.10/dist-packages (0.3.7)\n",
            "Requirement already satisfied: openai in /usr/local/lib/python3.10/dist-packages (1.54.4)\n",
            "Requirement already satisfied: PyYAML>=5.3 in /usr/local/lib/python3.10/dist-packages (from langchain) (6.0.2)\n",
            "Requirement already satisfied: SQLAlchemy<3,>=1.4 in /usr/local/lib/python3.10/dist-packages (from langchain) (2.0.35)\n",
            "Requirement already satisfied: aiohttp<4.0.0,>=3.8.3 in /usr/local/lib/python3.10/dist-packages (from langchain) (3.11.1)\n",
            "Requirement already satisfied: async-timeout<5.0.0,>=4.0.0 in /usr/local/lib/python3.10/dist-packages (from langchain) (4.0.3)\n",
            "Requirement already satisfied: langchain-core<0.4.0,>=0.3.15 in /usr/local/lib/python3.10/dist-packages (from langchain) (0.3.18)\n",
            "Requirement already satisfied: langchain-text-splitters<0.4.0,>=0.3.0 in /usr/local/lib/python3.10/dist-packages (from langchain) (0.3.2)\n",
            "Requirement already satisfied: langsmith<0.2.0,>=0.1.17 in /usr/local/lib/python3.10/dist-packages (from langchain) (0.1.143)\n",
            "Requirement already satisfied: numpy<2,>=1 in /usr/local/lib/python3.10/dist-packages (from langchain) (1.26.4)\n",
            "Requirement already satisfied: pydantic<3.0.0,>=2.7.4 in /usr/local/lib/python3.10/dist-packages (from langchain) (2.9.2)\n",
            "Requirement already satisfied: requests<3,>=2 in /usr/local/lib/python3.10/dist-packages (from langchain) (2.32.3)\n",
            "Requirement already satisfied: tenacity!=8.4.0,<10,>=8.1.0 in /usr/local/lib/python3.10/dist-packages (from langchain) (9.0.0)\n",
            "Requirement already satisfied: anyio<5,>=3.5.0 in /usr/local/lib/python3.10/dist-packages (from openai) (3.7.1)\n",
            "Requirement already satisfied: distro<2,>=1.7.0 in /usr/local/lib/python3.10/dist-packages (from openai) (1.9.0)\n",
            "Requirement already satisfied: httpx<1,>=0.23.0 in /usr/local/lib/python3.10/dist-packages (from openai) (0.27.2)\n",
            "Requirement already satisfied: jiter<1,>=0.4.0 in /usr/local/lib/python3.10/dist-packages (from openai) (0.7.1)\n",
            "Requirement already satisfied: sniffio in /usr/local/lib/python3.10/dist-packages (from openai) (1.3.1)\n",
            "Requirement already satisfied: tqdm>4 in /usr/local/lib/python3.10/dist-packages (from openai) (4.66.6)\n",
            "Requirement already satisfied: typing-extensions<5,>=4.11 in /usr/local/lib/python3.10/dist-packages (from openai) (4.12.2)\n",
            "Requirement already satisfied: aiohappyeyeballs>=2.3.0 in /usr/local/lib/python3.10/dist-packages (from aiohttp<4.0.0,>=3.8.3->langchain) (2.4.3)\n",
            "Requirement already satisfied: aiosignal>=1.1.2 in /usr/local/lib/python3.10/dist-packages (from aiohttp<4.0.0,>=3.8.3->langchain) (1.3.1)\n",
            "Requirement already satisfied: attrs>=17.3.0 in /usr/local/lib/python3.10/dist-packages (from aiohttp<4.0.0,>=3.8.3->langchain) (24.2.0)\n",
            "Requirement already satisfied: frozenlist>=1.1.1 in /usr/local/lib/python3.10/dist-packages (from aiohttp<4.0.0,>=3.8.3->langchain) (1.5.0)\n",
            "Requirement already satisfied: multidict<7.0,>=4.5 in /usr/local/lib/python3.10/dist-packages (from aiohttp<4.0.0,>=3.8.3->langchain) (6.1.0)\n",
            "Requirement already satisfied: propcache>=0.2.0 in /usr/local/lib/python3.10/dist-packages (from aiohttp<4.0.0,>=3.8.3->langchain) (0.2.0)\n",
            "Requirement already satisfied: yarl<2.0,>=1.17.0 in /usr/local/lib/python3.10/dist-packages (from aiohttp<4.0.0,>=3.8.3->langchain) (1.17.1)\n",
            "Requirement already satisfied: idna>=2.8 in /usr/local/lib/python3.10/dist-packages (from anyio<5,>=3.5.0->openai) (3.10)\n",
            "Requirement already satisfied: exceptiongroup in /usr/local/lib/python3.10/dist-packages (from anyio<5,>=3.5.0->openai) (1.2.2)\n",
            "Requirement already satisfied: certifi in /usr/local/lib/python3.10/dist-packages (from httpx<1,>=0.23.0->openai) (2024.8.30)\n",
            "Requirement already satisfied: httpcore==1.* in /usr/local/lib/python3.10/dist-packages (from httpx<1,>=0.23.0->openai) (1.0.6)\n",
            "Requirement already satisfied: h11<0.15,>=0.13 in /usr/local/lib/python3.10/dist-packages (from httpcore==1.*->httpx<1,>=0.23.0->openai) (0.14.0)\n",
            "Requirement already satisfied: jsonpatch<2.0,>=1.33 in /usr/local/lib/python3.10/dist-packages (from langchain-core<0.4.0,>=0.3.15->langchain) (1.33)\n",
            "Requirement already satisfied: packaging<25,>=23.2 in /usr/local/lib/python3.10/dist-packages (from langchain-core<0.4.0,>=0.3.15->langchain) (24.2)\n",
            "Requirement already satisfied: orjson<4.0.0,>=3.9.14 in /usr/local/lib/python3.10/dist-packages (from langsmith<0.2.0,>=0.1.17->langchain) (3.10.11)\n",
            "Requirement already satisfied: requests-toolbelt<2.0.0,>=1.0.0 in /usr/local/lib/python3.10/dist-packages (from langsmith<0.2.0,>=0.1.17->langchain) (1.0.0)\n",
            "Requirement already satisfied: annotated-types>=0.6.0 in /usr/local/lib/python3.10/dist-packages (from pydantic<3.0.0,>=2.7.4->langchain) (0.7.0)\n",
            "Requirement already satisfied: pydantic-core==2.23.4 in /usr/local/lib/python3.10/dist-packages (from pydantic<3.0.0,>=2.7.4->langchain) (2.23.4)\n",
            "Requirement already satisfied: charset-normalizer<4,>=2 in /usr/local/lib/python3.10/dist-packages (from requests<3,>=2->langchain) (3.4.0)\n",
            "Requirement already satisfied: urllib3<3,>=1.21.1 in /usr/local/lib/python3.10/dist-packages (from requests<3,>=2->langchain) (2.2.3)\n",
            "Requirement already satisfied: greenlet!=0.4.17 in /usr/local/lib/python3.10/dist-packages (from SQLAlchemy<3,>=1.4->langchain) (3.1.1)\n",
            "Requirement already satisfied: jsonpointer>=1.9 in /usr/local/lib/python3.10/dist-packages (from jsonpatch<2.0,>=1.33->langchain-core<0.4.0,>=0.3.15->langchain) (3.0.0)\n"
          ]
        }
      ],
      "source": [
        "!pip install langchain openai\n"
      ]
    },
    {
      "cell_type": "code",
      "execution_count": 14,
      "metadata": {
        "id": "Uwf78SJPiNSw",
        "colab": {
          "base_uri": "https://localhost:8080/"
        },
        "outputId": "55f4cd9b-df42-49a0-fd56-fcf3802029c0"
      },
      "outputs": [
        {
          "output_type": "stream",
          "name": "stderr",
          "text": [
            "<ipython-input-14-5028719f2b61>:4: LangChainDeprecationWarning: The class `OpenAIEmbeddings` was deprecated in LangChain 0.0.9 and will be removed in 1.0. An updated version of the class exists in the :class:`~langchain-openai package and should be used instead. To use it run `pip install -U :class:`~langchain-openai` and import as `from :class:`~langchain_openai import OpenAIEmbeddings``.\n",
            "  embeddings = OpenAIEmbeddings(model=\"text-embedding-ada-002\")\n"
          ]
        }
      ],
      "source": [
        "from langchain.embeddings.openai import OpenAIEmbeddings\n",
        "\n",
        "# OpenAI 임베딩 모델 초기화\n",
        "embeddings = OpenAIEmbeddings(model=\"text-embedding-ada-002\")\n"
      ]
    },
    {
      "cell_type": "code",
      "execution_count": 15,
      "metadata": {
        "colab": {
          "base_uri": "https://localhost:8080/"
        },
        "id": "3UIM-NhPidQn",
        "outputId": "a73593e4-dbcf-459c-e91a-8df408ed8b5e"
      },
      "outputs": [
        {
          "output_type": "stream",
          "name": "stdout",
          "text": [
            "Collecting tiktoken\n",
            "  Downloading tiktoken-0.8.0-cp310-cp310-manylinux_2_17_x86_64.manylinux2014_x86_64.whl.metadata (6.6 kB)\n",
            "Requirement already satisfied: regex>=2022.1.18 in /usr/local/lib/python3.10/dist-packages (from tiktoken) (2024.9.11)\n",
            "Requirement already satisfied: requests>=2.26.0 in /usr/local/lib/python3.10/dist-packages (from tiktoken) (2.32.3)\n",
            "Requirement already satisfied: charset-normalizer<4,>=2 in /usr/local/lib/python3.10/dist-packages (from requests>=2.26.0->tiktoken) (3.4.0)\n",
            "Requirement already satisfied: idna<4,>=2.5 in /usr/local/lib/python3.10/dist-packages (from requests>=2.26.0->tiktoken) (3.10)\n",
            "Requirement already satisfied: urllib3<3,>=1.21.1 in /usr/local/lib/python3.10/dist-packages (from requests>=2.26.0->tiktoken) (2.2.3)\n",
            "Requirement already satisfied: certifi>=2017.4.17 in /usr/local/lib/python3.10/dist-packages (from requests>=2.26.0->tiktoken) (2024.8.30)\n",
            "Downloading tiktoken-0.8.0-cp310-cp310-manylinux_2_17_x86_64.manylinux2014_x86_64.whl (1.2 MB)\n",
            "\u001b[2K   \u001b[90m━━━━━━━━━━━━━━━━━━━━━━━━━━━━━━━━━━━━━━━━\u001b[0m \u001b[32m1.2/1.2 MB\u001b[0m \u001b[31m12.5 MB/s\u001b[0m eta \u001b[36m0:00:00\u001b[0m\n",
            "\u001b[?25hInstalling collected packages: tiktoken\n",
            "Successfully installed tiktoken-0.8.0\n"
          ]
        }
      ],
      "source": [
        "!pip install tiktoken\n"
      ]
    },
    {
      "cell_type": "code",
      "source": [
        "!pip install faiss-cpu\n"
      ],
      "metadata": {
        "colab": {
          "base_uri": "https://localhost:8080/"
        },
        "id": "aC8jkmXaW-P-",
        "outputId": "9b991c39-fb0d-45a9-fc41-68abb25283c6"
      },
      "execution_count": 16,
      "outputs": [
        {
          "output_type": "stream",
          "name": "stdout",
          "text": [
            "Collecting faiss-cpu\n",
            "  Downloading faiss_cpu-1.9.0.post1-cp310-cp310-manylinux_2_17_x86_64.manylinux2014_x86_64.whl.metadata (4.4 kB)\n",
            "Requirement already satisfied: numpy<3.0,>=1.25.0 in /usr/local/lib/python3.10/dist-packages (from faiss-cpu) (1.26.4)\n",
            "Requirement already satisfied: packaging in /usr/local/lib/python3.10/dist-packages (from faiss-cpu) (24.2)\n",
            "Downloading faiss_cpu-1.9.0.post1-cp310-cp310-manylinux_2_17_x86_64.manylinux2014_x86_64.whl (27.5 MB)\n",
            "\u001b[2K   \u001b[90m━━━━━━━━━━━━━━━━━━━━━━━━━━━━━━━━━━━━━━━━\u001b[0m \u001b[32m27.5/27.5 MB\u001b[0m \u001b[31m15.4 MB/s\u001b[0m eta \u001b[36m0:00:00\u001b[0m\n",
            "\u001b[?25hInstalling collected packages: faiss-cpu\n",
            "Successfully installed faiss-cpu-1.9.0.post1\n"
          ]
        }
      ]
    },
    {
      "cell_type": "code",
      "execution_count": 17,
      "metadata": {
        "id": "HQ-Rr9BkYpbS"
      },
      "outputs": [],
      "source": [
        "import faiss\n",
        "from langchain_community.vectorstores import FAISS\n",
        "\n",
        "\n",
        "vectorstore = FAISS.from_documents(documents=splits, embedding=embeddings)"
      ]
    },
    {
      "cell_type": "code",
      "execution_count": 18,
      "metadata": {
        "id": "j3WPmHlzjIp3"
      },
      "outputs": [],
      "source": [
        "from langchain.embeddings.openai import OpenAIEmbeddings\n",
        "from langchain.vectorstores import FAISS\n",
        "from langchain.document_loaders import PyPDFLoader\n",
        "\n",
        "# PDF 파일에서 문서를 로드\n",
        "loader = PyPDFLoader(\"2024_OK.pdf\")\n",
        "documents = loader.load()\n",
        "\n",
        "# OpenAI 임베딩 모델로 문서를 벡터로 변환\n",
        "embeddings = OpenAIEmbeddings(model=\"text-embedding-ada-002\")\n",
        "\n",
        "# 문서 벡터를 FAISS 벡터 스토어에 저장\n",
        "vector_store = FAISS.from_documents(documents, embeddings)\n"
      ]
    },
    {
      "cell_type": "code",
      "execution_count": 19,
      "metadata": {
        "id": "cKR9tkiviTTq"
      },
      "outputs": [],
      "source": [
        "retriever = vector_store.as_retriever(search_type=\"similarity\", search_kwargs={\"k\": 1})"
      ]
    },
    {
      "cell_type": "code",
      "execution_count": 20,
      "metadata": {
        "id": "xnluXxCgiknJ"
      },
      "outputs": [],
      "source": [
        "from langchain_core.prompts import ChatPromptTemplate\n",
        "from langchain_core.runnables import RunnablePassthrough\n",
        "\n",
        "# 프롬프트 템플릿 정의\n",
        "contextual_prompt = ChatPromptTemplate.from_messages([\n",
        "    (\"system\", \"Answer the question using only the following context.\"),\n",
        "    (\"user\", \"Context: {context}\\\\n\\\\nQuestion: {question}\")\n",
        "])"
      ]
    },
    {
      "cell_type": "code",
      "source": [
        "from langchain.chains import LLMChain\n",
        "\n",
        "class SimplePassThrough:\n",
        "    def invoke(self, inputs, **kwargs):\n",
        "        return inputs\n",
        "\n",
        "class ContextToPrompt:\n",
        "    def __init__(self, prompt_template):\n",
        "        self.prompt_template = prompt_template\n",
        "\n",
        "    def invoke(self, inputs):\n",
        "        # 문서 내용을 텍스트로 변환\n",
        "        if isinstance(inputs, list):\n",
        "            context_text = \"\\n\".join([doc.page_content for doc in inputs])\n",
        "        else:\n",
        "            context_text = inputs\n",
        "\n",
        "        # 프롬프트 템플릿에 적용\n",
        "        formatted_prompt = self.prompt_template.format_messages(\n",
        "            context=context_text,\n",
        "            question=inputs.get(\"question\", \"\")\n",
        "        )\n",
        "        return formatted_prompt\n",
        "\n",
        "# Retriever를 invoke() 메서드로 래핑하는 클래스 정의\n",
        "class RetrieverWrapper:\n",
        "    def __init__(self, retriever):\n",
        "        self.retriever = retriever\n",
        "\n",
        "    def invoke(self, inputs):\n",
        "        if isinstance(inputs, dict):\n",
        "            query = inputs.get(\"question\", \"\")\n",
        "        else:\n",
        "            query = inputs\n",
        "        # 검색 수행\n",
        "        response_docs = self.retriever.get_relevant_documents(query)\n",
        "        return response_docs\n",
        "\n",
        "llm_chain = LLMChain(llm=model, prompt=contextual_prompt)\n",
        "\n",
        "# RAG 체인 설정\n",
        "rag_chain_debug = {\n",
        "    \"context\": RetrieverWrapper(retriever),\n",
        "    \"prompt\": ContextToPrompt(contextual_prompt),\n",
        "    \"llm\": model\n",
        "}"
      ],
      "metadata": {
        "id": "XTtgCT61Ogdq",
        "colab": {
          "base_uri": "https://localhost:8080/"
        },
        "outputId": "4ce86793-bbd4-4258-9ed8-7f1af85f974b"
      },
      "execution_count": 21,
      "outputs": [
        {
          "output_type": "stream",
          "name": "stderr",
          "text": [
            "<ipython-input-21-69a522a0c082>:39: LangChainDeprecationWarning: The class `LLMChain` was deprecated in LangChain 0.1.17 and will be removed in 1.0. Use :meth:`~RunnableSequence, e.g., `prompt | llm`` instead.\n",
            "  llm_chain = LLMChain(llm=model, prompt=contextual_prompt)\n"
          ]
        }
      ]
    },
    {
      "cell_type": "code",
      "source": [
        "pip install --upgrade openai langchain\n"
      ],
      "metadata": {
        "colab": {
          "base_uri": "https://localhost:8080/"
        },
        "id": "u-y-yplwaHYb",
        "outputId": "081fbee8-0012-4fbc-91ff-cc07e2d33e62"
      },
      "execution_count": 23,
      "outputs": [
        {
          "output_type": "stream",
          "name": "stdout",
          "text": [
            "Requirement already satisfied: openai in /usr/local/lib/python3.10/dist-packages (1.54.4)\n",
            "Collecting openai\n",
            "  Downloading openai-1.54.5-py3-none-any.whl.metadata (24 kB)\n",
            "Requirement already satisfied: langchain in /usr/local/lib/python3.10/dist-packages (0.3.7)\n",
            "Requirement already satisfied: anyio<5,>=3.5.0 in /usr/local/lib/python3.10/dist-packages (from openai) (3.7.1)\n",
            "Requirement already satisfied: distro<2,>=1.7.0 in /usr/local/lib/python3.10/dist-packages (from openai) (1.9.0)\n",
            "Requirement already satisfied: httpx<1,>=0.23.0 in /usr/local/lib/python3.10/dist-packages (from openai) (0.27.2)\n",
            "Requirement already satisfied: jiter<1,>=0.4.0 in /usr/local/lib/python3.10/dist-packages (from openai) (0.7.1)\n",
            "Requirement already satisfied: pydantic<3,>=1.9.0 in /usr/local/lib/python3.10/dist-packages (from openai) (2.9.2)\n",
            "Requirement already satisfied: sniffio in /usr/local/lib/python3.10/dist-packages (from openai) (1.3.1)\n",
            "Requirement already satisfied: tqdm>4 in /usr/local/lib/python3.10/dist-packages (from openai) (4.66.6)\n",
            "Requirement already satisfied: typing-extensions<5,>=4.11 in /usr/local/lib/python3.10/dist-packages (from openai) (4.12.2)\n",
            "Requirement already satisfied: PyYAML>=5.3 in /usr/local/lib/python3.10/dist-packages (from langchain) (6.0.2)\n",
            "Requirement already satisfied: SQLAlchemy<3,>=1.4 in /usr/local/lib/python3.10/dist-packages (from langchain) (2.0.35)\n",
            "Requirement already satisfied: aiohttp<4.0.0,>=3.8.3 in /usr/local/lib/python3.10/dist-packages (from langchain) (3.11.1)\n",
            "Requirement already satisfied: async-timeout<5.0.0,>=4.0.0 in /usr/local/lib/python3.10/dist-packages (from langchain) (4.0.3)\n",
            "Requirement already satisfied: langchain-core<0.4.0,>=0.3.15 in /usr/local/lib/python3.10/dist-packages (from langchain) (0.3.18)\n",
            "Requirement already satisfied: langchain-text-splitters<0.4.0,>=0.3.0 in /usr/local/lib/python3.10/dist-packages (from langchain) (0.3.2)\n",
            "Requirement already satisfied: langsmith<0.2.0,>=0.1.17 in /usr/local/lib/python3.10/dist-packages (from langchain) (0.1.143)\n",
            "Requirement already satisfied: numpy<2,>=1 in /usr/local/lib/python3.10/dist-packages (from langchain) (1.26.4)\n",
            "Requirement already satisfied: requests<3,>=2 in /usr/local/lib/python3.10/dist-packages (from langchain) (2.32.3)\n",
            "Requirement already satisfied: tenacity!=8.4.0,<10,>=8.1.0 in /usr/local/lib/python3.10/dist-packages (from langchain) (9.0.0)\n",
            "Requirement already satisfied: aiohappyeyeballs>=2.3.0 in /usr/local/lib/python3.10/dist-packages (from aiohttp<4.0.0,>=3.8.3->langchain) (2.4.3)\n",
            "Requirement already satisfied: aiosignal>=1.1.2 in /usr/local/lib/python3.10/dist-packages (from aiohttp<4.0.0,>=3.8.3->langchain) (1.3.1)\n",
            "Requirement already satisfied: attrs>=17.3.0 in /usr/local/lib/python3.10/dist-packages (from aiohttp<4.0.0,>=3.8.3->langchain) (24.2.0)\n",
            "Requirement already satisfied: frozenlist>=1.1.1 in /usr/local/lib/python3.10/dist-packages (from aiohttp<4.0.0,>=3.8.3->langchain) (1.5.0)\n",
            "Requirement already satisfied: multidict<7.0,>=4.5 in /usr/local/lib/python3.10/dist-packages (from aiohttp<4.0.0,>=3.8.3->langchain) (6.1.0)\n",
            "Requirement already satisfied: propcache>=0.2.0 in /usr/local/lib/python3.10/dist-packages (from aiohttp<4.0.0,>=3.8.3->langchain) (0.2.0)\n",
            "Requirement already satisfied: yarl<2.0,>=1.17.0 in /usr/local/lib/python3.10/dist-packages (from aiohttp<4.0.0,>=3.8.3->langchain) (1.17.1)\n",
            "Requirement already satisfied: idna>=2.8 in /usr/local/lib/python3.10/dist-packages (from anyio<5,>=3.5.0->openai) (3.10)\n",
            "Requirement already satisfied: exceptiongroup in /usr/local/lib/python3.10/dist-packages (from anyio<5,>=3.5.0->openai) (1.2.2)\n",
            "Requirement already satisfied: certifi in /usr/local/lib/python3.10/dist-packages (from httpx<1,>=0.23.0->openai) (2024.8.30)\n",
            "Requirement already satisfied: httpcore==1.* in /usr/local/lib/python3.10/dist-packages (from httpx<1,>=0.23.0->openai) (1.0.6)\n",
            "Requirement already satisfied: h11<0.15,>=0.13 in /usr/local/lib/python3.10/dist-packages (from httpcore==1.*->httpx<1,>=0.23.0->openai) (0.14.0)\n",
            "Requirement already satisfied: jsonpatch<2.0,>=1.33 in /usr/local/lib/python3.10/dist-packages (from langchain-core<0.4.0,>=0.3.15->langchain) (1.33)\n",
            "Requirement already satisfied: packaging<25,>=23.2 in /usr/local/lib/python3.10/dist-packages (from langchain-core<0.4.0,>=0.3.15->langchain) (24.2)\n",
            "Requirement already satisfied: orjson<4.0.0,>=3.9.14 in /usr/local/lib/python3.10/dist-packages (from langsmith<0.2.0,>=0.1.17->langchain) (3.10.11)\n",
            "Requirement already satisfied: requests-toolbelt<2.0.0,>=1.0.0 in /usr/local/lib/python3.10/dist-packages (from langsmith<0.2.0,>=0.1.17->langchain) (1.0.0)\n",
            "Requirement already satisfied: annotated-types>=0.6.0 in /usr/local/lib/python3.10/dist-packages (from pydantic<3,>=1.9.0->openai) (0.7.0)\n",
            "Requirement already satisfied: pydantic-core==2.23.4 in /usr/local/lib/python3.10/dist-packages (from pydantic<3,>=1.9.0->openai) (2.23.4)\n",
            "Requirement already satisfied: charset-normalizer<4,>=2 in /usr/local/lib/python3.10/dist-packages (from requests<3,>=2->langchain) (3.4.0)\n",
            "Requirement already satisfied: urllib3<3,>=1.21.1 in /usr/local/lib/python3.10/dist-packages (from requests<3,>=2->langchain) (2.2.3)\n",
            "Requirement already satisfied: greenlet!=0.4.17 in /usr/local/lib/python3.10/dist-packages (from SQLAlchemy<3,>=1.4->langchain) (3.1.1)\n",
            "Requirement already satisfied: jsonpointer>=1.9 in /usr/local/lib/python3.10/dist-packages (from jsonpatch<2.0,>=1.33->langchain-core<0.4.0,>=0.3.15->langchain) (3.0.0)\n",
            "Downloading openai-1.54.5-py3-none-any.whl (389 kB)\n",
            "\u001b[2K   \u001b[90m━━━━━━━━━━━━━━━━━━━━━━━━━━━━━━━━━━━━━━━━\u001b[0m \u001b[32m389.5/389.5 kB\u001b[0m \u001b[31m6.3 MB/s\u001b[0m eta \u001b[36m0:00:00\u001b[0m\n",
            "\u001b[?25hInstalling collected packages: openai\n",
            "  Attempting uninstall: openai\n",
            "    Found existing installation: openai 1.54.4\n",
            "    Uninstalling openai-1.54.4:\n",
            "      Successfully uninstalled openai-1.54.4\n",
            "Successfully installed openai-1.54.5\n"
          ]
        }
      ]
    },
    {
      "cell_type": "code",
      "execution_count": 25,
      "metadata": {
        "colab": {
          "base_uri": "https://localhost:8080/"
        },
        "id": "xDC5rieojcNp",
        "outputId": "2817c271-c17e-49b9-9ed0-a754494eae75"
      },
      "outputs": [
        {
          "name": "stdout",
          "output_type": "stream",
          "text": [
            "========================\n",
            "질문을 입력하세요 : 양도소득세 과세대상  상장주식 대주주를 판정할 때  기준이 되는 시기는 언제인가요?\n",
            "\n",
            "답변:\n",
            "양도소득세 과세대상 상장주식 대주주를 판정할 때 기준이 되는 시기는 주식 등을 양도한 날이 속하는 사업연도의 직전 사업연도 종료일입니다.\n",
            "========================\n",
            "질문을 입력하세요 : 좀 더 상세히 말해줘\n",
            "\n",
            "답변:\n",
            "주식 거래의 일반적인 절차는 다음과 같습니다:\n",
            "\n",
            "1. **증권회사에 계좌 개설**: 일반 투자자가 주식을 매매하기 위해서는 먼저 거래소의 회원인 증권회사에 가서 주식 거래 계좌를 개설해야 합니다. 이 과정에서 고객은 증권회사와 매매 거래 계좌 설정 계약을 체결하고 증권 카드(ID) 또는 통장을 받게 됩니다.\n",
            "\n",
            "2. **매매 주문 제출**: 계좌가 개설된 후, 투자자는 증권회사에 매매 주문을 제출할 수 있습니다. 매매 주문은 영업점에서 주문표를 작성하여 제출할 수 있으며, 전화나 HTS(Home Trading System) 등을 통해서도 가능합니다.\n",
            "\n",
            "3. **주문 처리**: 증권회사는 고객으로부터 주문을 받으면, 해당 고객의 계좌에 위탁 증거금이 충분히 예치되어 있는지를 확인합니다. 이후 주문을 한국 거래소의 매매 체결 시스템으로 전달합니다.\n",
            "\n",
            "4. **매매 체결**: 주문이 매매 체결 시스템에 접수되면, 조건이 맞는 상대 주문이 있을 경우 즉시 매매가 이루어집니다. 만약 상대 주문이 없을 경우, 매매 체결되지 않은 상태로 상대 주문이 들어올 때까지 대기합니다.\n",
            "\n",
            "이러한 절차를 통해 일반 투자자는 한국 거래소에서 주식을 매매할 수 있습니다.\n",
            "========================\n",
            "질문을 입력하세요 : 완료\n"
          ]
        }
      ],
      "source": [
        "\n",
        "\n",
        "# 챗봇 구동\n",
        "while True:\n",
        "    print(\"========================\")\n",
        "    query = input(\"질문을 입력하세요 : \")\n",
        "    if query == '완료' : break\n",
        "\n",
        "    # 1. Retriever로 관련 문서 검색\n",
        "    response_docs = rag_chain_debug[\"context\"].invoke({\"question\": query})\n",
        "\n",
        "    # 2. 문서를 프롬프트로 변환\n",
        "    prompt_messages = rag_chain_debug[\"prompt\"].invoke({\n",
        "        \"context\": response_docs,\n",
        "        \"question\": query\n",
        "    })\n",
        "\n",
        "    # 3. LLM으로 응답 생성\n",
        "    response = rag_chain_debug[\"llm\"].invoke(prompt_messages)\n",
        "\n",
        "    print(\"\\n답변:\")\n",
        "    print(response.content)"
      ]
    },
    {
      "cell_type": "markdown",
      "source": [
        "# 일반 LLM 답변 내역\n",
        "\n",
        "질문 : 양도소득세 과세대상 상장주식 대주주를 판정할 때 기준이 되는 시기는 언제인가요?\n",
        "\n",
        "ChatGPT의 말:\n",
        "ChatGPT\n",
        "상장주식 대주주를 판정할 때 기준 시기는 \"주식양도일\"입니다. 즉, 양도소득세를 신고하는 양도일을 기준으로 대주주 여부를 결정합니다.\n",
        "\n",
        "\n",
        "\n",
        "질문:\n",
        "좀 더 상세히 말해줘\n",
        "\n",
        "ChatGPT의 말:\n",
        "ChatGPT\n",
        "상장주식의 대주주 판정 시 기준 시점에 대해 좀 더 자세히 설명드리겠습니다.\n",
        "\n",
        "1. 대주주 기준\n",
        "대주주는 특정 기준을 초과한 주식을 보유한 주주를 의미합니다. 상장된 기업에서 대주주로 분류되면, 주식을 양도할 때 양도소득세가 부과됩니다. 대주주의 판단 기준은 보유 주식의 수량 및 지분율에 따라 결정됩니다.\n",
        "\n",
        "2. 대주주 판정 시점\n",
        "대주주 판정을 위한 기준 시점은 주식 양도일입니다. 즉, 주식을 실제로 팔거나 매각한 날이 기준이 됩니다.\n",
        "\n",
        "주식 양도일을 기준으로 대주주 여부를 판단하는 이유:\n",
        "양도소득세는 주식을 팔고 얻은 이익에 대해 과세하는 세금입니다. 따라서 세금 부과 시점인 양도일을 기준으로 대주주 여부를 판단해야 합니다.\n",
        "\n",
        "대주주 기준은 특정 연도나 특정 시점의 주식 보유 비율에 따라 다를 수 있기 때문에, 주식을 매각하기 전의 보유 비율을 기준으로 대주주 여부가 결정됩니다.\n",
        "\n",
        "3. 대주주 판정 기준\n",
        "상장주식에 대해 대주주 여부를 판단하는 기준은 다음과 같습니다:\n",
        "\n",
        "지분율 10% 이상: 상장기업 주식에서 대주주로 분류되기 위해서는 해당 기업의 주식 10% 이상을 보유해야 합니다.\n",
        "\n",
        "특수관계인 포함: 본인뿐만 아니라 본인의 특수관계인(배우자, 직계존비속, 형제자매 등)의 주식도 함께 합산하여 지분율을 계산합니다.\n",
        "\n",
        "4. 대주주 기준의 예외\n",
        "금융투자업자나 공매도 등 특정 거래의 경우에는 대주주 판단 기준이 달라질 수 있습니다.\n",
        "\n",
        "주식양도일 이전에 대주주에 해당하는 경우라도, 주식을 팔았을 때 대주주에 대한 과세가 적용되므로, 주식양도일에 대주주 판정 기준을 따라야 합니다.\n",
        "\n",
        "5. 주의할 점\n",
        "주식양도일 이전에 대주주로 분류되었으나, 양도일 이후에는 대주주 기준에 해당하지 않을 수 있습니다. 따라서 양도일에 대주주로 분류되면 양도소득세가 부과되고, 그 시점에서 과세가 이루어집니다.\n",
        "이와 같이, 상장주식 대주주의 판정은 주식양도일을 기준으로 이루어지므로, 주식 매매일에 해당하는 주식을 소유한 비율이 10% 이상이라면 대주주로 간주됩니다."
      ],
      "metadata": {
        "id": "K5sgMw8Fg7am"
      }
    },
    {
      "cell_type": "markdown",
      "source": [
        "**왜 RAG 이 필요한가?**\n",
        "\n",
        "챗봇 답변 내역을 일반 LLM 답변 내역과 비교해 보았을 때\n",
        "RAG를 사용하면 로드해 온 문서의 내용을 참고하여 필요한 정보만 전달해 주지만,\n",
        "일반 LLM은 참고한 문서와는 다른 정보를 가져다 준다. 그러므로 RAG는 사용자가 요청하는 정보에 맞춰 필요한 데이터만을 추출하고, 이를 바탕으로 맞춤형 답변을 생성할 수 있기 때문에 RAG가 필요하다."
      ],
      "metadata": {
        "id": "qMk9O1grh-hK"
      }
    }
  ],
  "metadata": {
    "colab": {
      "provenance": []
    },
    "kernelspec": {
      "display_name": "Python 3",
      "name": "python3"
    },
    "language_info": {
      "name": "python"
    }
  },
  "nbformat": 4,
  "nbformat_minor": 0
}